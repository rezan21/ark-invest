{
 "cells": [
  {
   "cell_type": "code",
   "execution_count": 5,
   "metadata": {},
   "outputs": [],
   "source": [
    "import json\n",
    "import pickle\n",
    "import os.path\n",
    "import base64\n",
    "from datetime import datetime\n",
    "from __future__ import print_function\n",
    "\n",
    "from googleapiclient.discovery import build\n",
    "from google_auth_oauthlib.flow import InstalledAppFlow\n",
    "from google.auth.transport.requests import Request\n",
    "\n",
    "import pandas as pd\n",
    "\n",
    "SCOPES = ['https://www.googleapis.com/auth/gmail.readonly']\n",
    "SECRETS_PATH = \"./local/secrets\""
   ]
  },
  {
   "cell_type": "code",
   "execution_count": 6,
   "metadata": {},
   "outputs": [],
   "source": [
    "# connect GMAIL API\n",
    "creds = None\n",
    "if os.path.exists(f'{SECRETS_PATH}/token.pickle'):\n",
    "    with open(f'{SECRETS_PATH}/token.pickle', 'rb') as token:\n",
    "        creds = pickle.load(token)\n",
    "if not creds or not creds.valid:\n",
    "    if creds and creds.expired and creds.refresh_token:\n",
    "        creds.refresh(Request())\n",
    "    else:\n",
    "        flow = InstalledAppFlow.from_client_secrets_file(\n",
    "            f'{SECRETS_PATH}/credentials.json', SCOPES)\n",
    "        creds = flow.run_local_server(port=0)\n",
    "    with open(f'{SECRETS_PATH}/token.pickle', 'wb') as token:\n",
    "        pickle.dump(creds, token)\n",
    "\n",
    "service = build('gmail', 'v1', credentials=creds)"
   ]
  },
  {
   "cell_type": "code",
   "execution_count": 7,
   "metadata": {
    "scrolled": true
   },
   "outputs": [
    {
     "name": "stdout",
     "output_type": "stream",
     "text": [
      "25\n"
     ]
    }
   ],
   "source": [
    "# email ids\n",
    "results = service.users().messages().list(userId=\"me\", labelIds=[\"INBOX\"], q=\"subject: ARK Investment Management Trading Information\").execute()\n",
    "messages = results.get(\"messages\", [])\n",
    "print(len(messages))"
   ]
  },
  {
   "cell_type": "code",
   "execution_count": 8,
   "metadata": {},
   "outputs": [
    {
     "name": "stdout",
     "output_type": "stream",
     "text": [
      "2021-03-09 01:27:15\n"
     ]
    }
   ],
   "source": [
    "with open(\"./local/processed_emails.pickle\", \"rb\") as file:\n",
    "    processed_emails = list(pickle.load(file))\n",
    "\n",
    "for message in messages: # TO-DO: multi-proc\n",
    "    if message[\"id\"] not in processed_emails:\n",
    "        try:\n",
    "            msg = service.users().messages().get(userId=\"me\", id=message[\"id\"], format=\"full\").execute()\n",
    "            msg_time = float(msg.get(\"internalDate\", 0)) / 1000\n",
    "            msg_ts = datetime.utcfromtimestamp(int(msg_time))\n",
    "            msg_data = msg[\"payload\"][\"body\"][\"data\"]\n",
    "            print(msg_ts)\n",
    "            msg_html = base64.urlsafe_b64decode(msg_data).decode()\n",
    "\n",
    "            dfs = pd.read_html(msg_html, header=0, index_col=0)\n",
    "            if len(dfs)>1:\n",
    "                raise ValueError(\"found more than 1 table\")\n",
    "#                 pass\n",
    "            df = dfs[0]\n",
    "\n",
    "            df.columns = df.columns.str.lower()\n",
    "            df[\"date\"] = pd.to_datetime(df[\"date\"])\n",
    "            if df[\"date\"].nunique()!=1:\n",
    "                raise ValueError(\"number of unique dates should be 1\")\n",
    "            trade_date = df[\"date\"].iloc[0].strftime(\"%Y-%m-%d\")\n",
    "            \n",
    "            df.to_csv(f\"./trades/raw/{trade_date}_ARK_TRADES.csv\", index=False)\n",
    "            processed_emails.append(message[\"id\"])\n",
    "        except Exception as err:\n",
    "            print(f\"error: {err} for message id: {message.get('id', 'N/A')}\")\n",
    "\n",
    "with open(\"./local/processed_emails.pickle\", \"wb\") as file:\n",
    "    pickle.dump(set(processed_emails), file)"
   ]
  },
  {
   "cell_type": "code",
   "execution_count": 5,
   "metadata": {},
   "outputs": [],
   "source": [
    "# with open(\"./local/processed_emails.pickle\", \"wb\") as file:\n",
    "#     pickle.dump(set({}), file)"
   ]
  },
  {
   "cell_type": "code",
   "execution_count": null,
   "metadata": {},
   "outputs": [],
   "source": []
  }
 ],
 "metadata": {
  "kernelspec": {
   "display_name": "Python 3",
   "language": "python",
   "name": "python3"
  },
  "language_info": {
   "codemirror_mode": {
    "name": "ipython",
    "version": 3
   },
   "file_extension": ".py",
   "mimetype": "text/x-python",
   "name": "python",
   "nbconvert_exporter": "python",
   "pygments_lexer": "ipython3",
   "version": "3.8.3"
  }
 },
 "nbformat": 4,
 "nbformat_minor": 4
}
