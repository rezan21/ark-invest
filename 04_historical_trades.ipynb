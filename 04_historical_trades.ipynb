{
 "cells": [
  {
   "cell_type": "code",
   "execution_count": 28,
   "metadata": {},
   "outputs": [],
   "source": [
    "import concurrent.futures\n",
    "from pathlib import Path\n",
    "from datetime import datetime, timedelta\n",
    "\n",
    "import numpy as np\n",
    "import pandas as pd\n",
    "import pandas_datareader.data as web\n",
    "from tqdm import tqdm\n",
    "\n",
    "# visuals.\n",
    "%matplotlib inline\n",
    "import matplotlib.pyplot as plt\n",
    "import seaborn as sns\n",
    "import plotly.graph_objects as go"
   ]
  },
  {
   "cell_type": "code",
   "execution_count": 67,
   "metadata": {},
   "outputs": [
    {
     "name": "stderr",
     "output_type": "stream",
     "text": [
      "100%|██████████| 11/11 [00:00<00:00, 817.79it/s]\n"
     ]
    },
    {
     "data": {
      "text/html": [
       "<div>\n",
       "<style scoped>\n",
       "    .dataframe tbody tr th:only-of-type {\n",
       "        vertical-align: middle;\n",
       "    }\n",
       "\n",
       "    .dataframe tbody tr th {\n",
       "        vertical-align: top;\n",
       "    }\n",
       "\n",
       "    .dataframe thead th {\n",
       "        text-align: right;\n",
       "    }\n",
       "</style>\n",
       "<table border=\"1\" class=\"dataframe\">\n",
       "  <thead>\n",
       "    <tr style=\"text-align: right;\">\n",
       "      <th></th>\n",
       "      <th>fund</th>\n",
       "      <th>date</th>\n",
       "      <th>direction</th>\n",
       "      <th>ticker</th>\n",
       "      <th>cusip</th>\n",
       "      <th>company</th>\n",
       "      <th>shares</th>\n",
       "      <th>% of etf</th>\n",
       "    </tr>\n",
       "  </thead>\n",
       "  <tbody>\n",
       "    <tr>\n",
       "      <th>51</th>\n",
       "      <td>ARKW</td>\n",
       "      <td>2021-02-01</td>\n",
       "      <td>Sell</td>\n",
       "      <td>API</td>\n",
       "      <td>00851L103</td>\n",
       "      <td>AGORA INC</td>\n",
       "      <td>54100</td>\n",
       "      <td>0.0577</td>\n",
       "    </tr>\n",
       "    <tr>\n",
       "      <th>44</th>\n",
       "      <td>ARKQ</td>\n",
       "      <td>2021-02-01</td>\n",
       "      <td>Sell</td>\n",
       "      <td>AVAV</td>\n",
       "      <td>008073108</td>\n",
       "      <td>AEROVIRONMENT INC</td>\n",
       "      <td>6132</td>\n",
       "      <td>0.0241</td>\n",
       "    </tr>\n",
       "    <tr>\n",
       "      <th>31</th>\n",
       "      <td>ARKK</td>\n",
       "      <td>2021-02-01</td>\n",
       "      <td>Buy</td>\n",
       "      <td>BEAM</td>\n",
       "      <td>07373V105</td>\n",
       "      <td>BEAM THERAPEUTICS INC</td>\n",
       "      <td>58218</td>\n",
       "      <td>0.0241</td>\n",
       "    </tr>\n",
       "    <tr>\n",
       "      <th>48</th>\n",
       "      <td>ARKW</td>\n",
       "      <td>2021-02-01</td>\n",
       "      <td>Buy</td>\n",
       "      <td>BEKE</td>\n",
       "      <td>482497104</td>\n",
       "      <td>KE HOLDINGS INC</td>\n",
       "      <td>110900</td>\n",
       "      <td>0.0986</td>\n",
       "    </tr>\n",
       "    <tr>\n",
       "      <th>47</th>\n",
       "      <td>ARKQ</td>\n",
       "      <td>2021-02-01</td>\n",
       "      <td>Sell</td>\n",
       "      <td>BYDDY</td>\n",
       "      <td>05606L100</td>\n",
       "      <td>BYD CO LTD</td>\n",
       "      <td>31503</td>\n",
       "      <td>0.0671</td>\n",
       "    </tr>\n",
       "    <tr>\n",
       "      <th>...</th>\n",
       "      <td>...</td>\n",
       "      <td>...</td>\n",
       "      <td>...</td>\n",
       "      <td>...</td>\n",
       "      <td>...</td>\n",
       "      <td>...</td>\n",
       "      <td>...</td>\n",
       "      <td>...</td>\n",
       "    </tr>\n",
       "    <tr>\n",
       "      <th>221</th>\n",
       "      <td>ARKQ</td>\n",
       "      <td>2021-02-16</td>\n",
       "      <td>Sell</td>\n",
       "      <td>TSM</td>\n",
       "      <td>874039100</td>\n",
       "      <td>TAIWAN SEMICONDUCTOR MANUFACTURING CO LTD</td>\n",
       "      <td>71667</td>\n",
       "      <td>0.2480</td>\n",
       "    </tr>\n",
       "    <tr>\n",
       "      <th>200</th>\n",
       "      <td>ARKG</td>\n",
       "      <td>2021-02-16</td>\n",
       "      <td>Sell</td>\n",
       "      <td>TWST</td>\n",
       "      <td>90184D100</td>\n",
       "      <td>TWIST BIOSCIENCE CORP</td>\n",
       "      <td>1646</td>\n",
       "      <td>0.0021</td>\n",
       "    </tr>\n",
       "    <tr>\n",
       "      <th>203</th>\n",
       "      <td>ARKG</td>\n",
       "      <td>2021-02-16</td>\n",
       "      <td>Sell</td>\n",
       "      <td>VCYT</td>\n",
       "      <td>92337F107</td>\n",
       "      <td>VERACYTE INC</td>\n",
       "      <td>21481</td>\n",
       "      <td>0.0129</td>\n",
       "    </tr>\n",
       "    <tr>\n",
       "      <th>197</th>\n",
       "      <td>ARKG</td>\n",
       "      <td>2021-02-16</td>\n",
       "      <td>Buy</td>\n",
       "      <td>VEEV</td>\n",
       "      <td>922475108</td>\n",
       "      <td>VEEVA SYSTEMS INC</td>\n",
       "      <td>17771</td>\n",
       "      <td>0.0447</td>\n",
       "    </tr>\n",
       "    <tr>\n",
       "      <th>226</th>\n",
       "      <td>ARKW</td>\n",
       "      <td>2021-02-16</td>\n",
       "      <td>Sell</td>\n",
       "      <td>Z</td>\n",
       "      <td>98954M200</td>\n",
       "      <td>ZILLOW GROUP INC</td>\n",
       "      <td>67864</td>\n",
       "      <td>0.1481</td>\n",
       "    </tr>\n",
       "  </tbody>\n",
       "</table>\n",
       "<p>247 rows × 8 columns</p>\n",
       "</div>"
      ],
      "text/plain": [
       "     fund       date direction ticker      cusip  \\\n",
       "51   ARKW 2021-02-01      Sell    API  00851L103   \n",
       "44   ARKQ 2021-02-01      Sell   AVAV  008073108   \n",
       "31   ARKK 2021-02-01       Buy   BEAM  07373V105   \n",
       "48   ARKW 2021-02-01       Buy   BEKE  482497104   \n",
       "47   ARKQ 2021-02-01      Sell  BYDDY  05606L100   \n",
       "..    ...        ...       ...    ...        ...   \n",
       "221  ARKQ 2021-02-16      Sell    TSM  874039100   \n",
       "200  ARKG 2021-02-16      Sell   TWST  90184D100   \n",
       "203  ARKG 2021-02-16      Sell   VCYT  92337F107   \n",
       "197  ARKG 2021-02-16       Buy   VEEV  922475108   \n",
       "226  ARKW 2021-02-16      Sell      Z  98954M200   \n",
       "\n",
       "                                       company  shares  % of etf  \n",
       "51                                   AGORA INC   54100    0.0577  \n",
       "44                           AEROVIRONMENT INC    6132    0.0241  \n",
       "31                       BEAM THERAPEUTICS INC   58218    0.0241  \n",
       "48                             KE HOLDINGS INC  110900    0.0986  \n",
       "47                                  BYD CO LTD   31503    0.0671  \n",
       "..                                         ...     ...       ...  \n",
       "221  TAIWAN SEMICONDUCTOR MANUFACTURING CO LTD   71667    0.2480  \n",
       "200                      TWIST BIOSCIENCE CORP    1646    0.0021  \n",
       "203                               VERACYTE INC   21481    0.0129  \n",
       "197                          VEEVA SYSTEMS INC   17771    0.0447  \n",
       "226                           ZILLOW GROUP INC   67864    0.1481  \n",
       "\n",
       "[247 rows x 8 columns]"
      ]
     },
     "execution_count": 67,
     "metadata": {},
     "output_type": "execute_result"
    }
   ],
   "source": [
    "def read_df(path):\n",
    "    try:\n",
    "        return pd.read_csv(path)\n",
    "    except Exception as err:\n",
    "        print(err)\n",
    "\n",
    "\n",
    "df = []\n",
    "files = list(Path(\"./trades/\").glob(\"*.csv\"))\n",
    "with concurrent.futures.ThreadPoolExecutor() as executor:\n",
    "    df.extend(tqdm(executor.map(read_df, files), total=len(files)))\n",
    "df = pd.concat(df, ignore_index=True)\n",
    "\n",
    "df[\"date\"] = pd.to_datetime(df[\"date\"])\n",
    "df.sort_values([\"date\", \"ticker\"], inplace=True)\n",
    "df"
   ]
  },
  {
   "cell_type": "code",
   "execution_count": 63,
   "metadata": {},
   "outputs": [
    {
     "name": "stdout",
     "output_type": "stream",
     "text": [
      "No data fetched for symbol 1833 using YahooDailyReader\n",
      "No data fetched for symbol 3690 using YahooDailyReader\n",
      "No data fetched for symbol ADYEN using YahooDailyReader\n"
     ]
    },
    {
     "data": {
      "text/html": [
       "<div>\n",
       "<style scoped>\n",
       "    .dataframe tbody tr th:only-of-type {\n",
       "        vertical-align: middle;\n",
       "    }\n",
       "\n",
       "    .dataframe tbody tr th {\n",
       "        vertical-align: top;\n",
       "    }\n",
       "\n",
       "    .dataframe thead th {\n",
       "        text-align: right;\n",
       "    }\n",
       "</style>\n",
       "<table border=\"1\" class=\"dataframe\">\n",
       "  <thead>\n",
       "    <tr style=\"text-align: right;\">\n",
       "      <th></th>\n",
       "      <th>Date</th>\n",
       "      <th>Open</th>\n",
       "      <th>ticker</th>\n",
       "    </tr>\n",
       "    <tr>\n",
       "      <th>key1</th>\n",
       "      <th></th>\n",
       "      <th></th>\n",
       "      <th></th>\n",
       "    </tr>\n",
       "  </thead>\n",
       "  <tbody>\n",
       "    <tr>\n",
       "      <th>API_2021-02-01</th>\n",
       "      <td>2021-02-01</td>\n",
       "      <td>72.080002</td>\n",
       "      <td>API</td>\n",
       "    </tr>\n",
       "    <tr>\n",
       "      <th>API_2021-02-02</th>\n",
       "      <td>2021-02-02</td>\n",
       "      <td>80.000000</td>\n",
       "      <td>API</td>\n",
       "    </tr>\n",
       "    <tr>\n",
       "      <th>API_2021-02-03</th>\n",
       "      <td>2021-02-03</td>\n",
       "      <td>78.000000</td>\n",
       "      <td>API</td>\n",
       "    </tr>\n",
       "    <tr>\n",
       "      <th>API_2021-02-04</th>\n",
       "      <td>2021-02-04</td>\n",
       "      <td>93.489998</td>\n",
       "      <td>API</td>\n",
       "    </tr>\n",
       "    <tr>\n",
       "      <th>API_2021-02-05</th>\n",
       "      <td>2021-02-05</td>\n",
       "      <td>87.190002</td>\n",
       "      <td>API</td>\n",
       "    </tr>\n",
       "    <tr>\n",
       "      <th>...</th>\n",
       "      <td>...</td>\n",
       "      <td>...</td>\n",
       "      <td>...</td>\n",
       "    </tr>\n",
       "    <tr>\n",
       "      <th>VEEV_2021-02-09</th>\n",
       "      <td>2021-02-09</td>\n",
       "      <td>297.570007</td>\n",
       "      <td>VEEV</td>\n",
       "    </tr>\n",
       "    <tr>\n",
       "      <th>VEEV_2021-02-10</th>\n",
       "      <td>2021-02-10</td>\n",
       "      <td>306.420013</td>\n",
       "      <td>VEEV</td>\n",
       "    </tr>\n",
       "    <tr>\n",
       "      <th>VEEV_2021-02-11</th>\n",
       "      <td>2021-02-11</td>\n",
       "      <td>313.799988</td>\n",
       "      <td>VEEV</td>\n",
       "    </tr>\n",
       "    <tr>\n",
       "      <th>VEEV_2021-02-12</th>\n",
       "      <td>2021-02-12</td>\n",
       "      <td>311.000000</td>\n",
       "      <td>VEEV</td>\n",
       "    </tr>\n",
       "    <tr>\n",
       "      <th>VEEV_2021-02-16</th>\n",
       "      <td>2021-02-16</td>\n",
       "      <td>321.079987</td>\n",
       "      <td>VEEV</td>\n",
       "    </tr>\n",
       "  </tbody>\n",
       "</table>\n",
       "<p>746 rows × 3 columns</p>\n",
       "</div>"
      ],
      "text/plain": [
       "                      Date        Open ticker\n",
       "key1                                         \n",
       "API_2021-02-01  2021-02-01   72.080002    API\n",
       "API_2021-02-02  2021-02-02   80.000000    API\n",
       "API_2021-02-03  2021-02-03   78.000000    API\n",
       "API_2021-02-04  2021-02-04   93.489998    API\n",
       "API_2021-02-05  2021-02-05   87.190002    API\n",
       "...                    ...         ...    ...\n",
       "VEEV_2021-02-09 2021-02-09  297.570007   VEEV\n",
       "VEEV_2021-02-10 2021-02-10  306.420013   VEEV\n",
       "VEEV_2021-02-11 2021-02-11  313.799988   VEEV\n",
       "VEEV_2021-02-12 2021-02-12  311.000000   VEEV\n",
       "VEEV_2021-02-16 2021-02-16  321.079987   VEEV\n",
       "\n",
       "[746 rows x 3 columns]"
      ]
     },
     "execution_count": 63,
     "metadata": {},
     "output_type": "execute_result"
    }
   ],
   "source": [
    "# open prices of traded stocks\n",
    "open_configs = [{\"ticker\":ticker, \"start_date\":df[\"date\"].min(), \"end_date\":df[\"date\"].max(), \"on\":\"Open\"} for ticker in df[\"ticker\"].unique()] # on ark's trade date\n",
    "\n",
    "def parallel_fetch_daily_data(config):\n",
    "    try:\n",
    "        # fetch daily market data from yahoo finance\n",
    "        df = web.get_data_yahoo(config[\"ticker\"], start=config[\"start_date\"], end=config[\"end_date\"])[[config[\"on\"]]]\n",
    "        df[\"ticker\"] = config[\"ticker\"]\n",
    "        df.drop_duplicates(inplace=True)\n",
    "        return df\n",
    "    except Exception as e:\n",
    "        print(e)\n",
    "\n",
    "\n",
    "open_prices = [] # list of dfs\n",
    "with concurrent.futures.ThreadPoolExecutor(max_workers=5) as executor:\n",
    "    open_prices.extend(executor.map(parallel_fetch_daily_data, open_configs))\n",
    "open_prices = pd.concat(open_prices)\n",
    "open_prices.reset_index(inplace=True)\n",
    "\n",
    "# make key\n",
    "open_prices[\"key1\"] = open_prices[\"ticker\"].astype(str) + \"_\" + open_prices[\"Date\"].astype(str)\n",
    "open_prices.set_index(\"key1\", inplace=True)\n",
    "open_prices"
   ]
  },
  {
   "cell_type": "code",
   "execution_count": 68,
   "metadata": {},
   "outputs": [
    {
     "data": {
      "text/html": [
       "<div>\n",
       "<style scoped>\n",
       "    .dataframe tbody tr th:only-of-type {\n",
       "        vertical-align: middle;\n",
       "    }\n",
       "\n",
       "    .dataframe tbody tr th {\n",
       "        vertical-align: top;\n",
       "    }\n",
       "\n",
       "    .dataframe thead th {\n",
       "        text-align: right;\n",
       "    }\n",
       "</style>\n",
       "<table border=\"1\" class=\"dataframe\">\n",
       "  <thead>\n",
       "    <tr style=\"text-align: right;\">\n",
       "      <th></th>\n",
       "      <th>ticker</th>\n",
       "      <th>date</th>\n",
       "      <th>company</th>\n",
       "      <th>fund</th>\n",
       "      <th>shares</th>\n",
       "      <th>Open</th>\n",
       "      <th>signal</th>\n",
       "      <th>volume</th>\n",
       "      <th>abs_volume</th>\n",
       "    </tr>\n",
       "    <tr>\n",
       "      <th>key1</th>\n",
       "      <th></th>\n",
       "      <th></th>\n",
       "      <th></th>\n",
       "      <th></th>\n",
       "      <th></th>\n",
       "      <th></th>\n",
       "      <th></th>\n",
       "      <th></th>\n",
       "      <th></th>\n",
       "    </tr>\n",
       "  </thead>\n",
       "  <tbody>\n",
       "    <tr>\n",
       "      <th>ABBV_2021-02-16</th>\n",
       "      <td>ABBV</td>\n",
       "      <td>2021-02-16</td>\n",
       "      <td>ABBVIE INC</td>\n",
       "      <td>ARKG</td>\n",
       "      <td>121900</td>\n",
       "      <td>105.330002</td>\n",
       "      <td>Buy</td>\n",
       "      <td>1.283973e+07</td>\n",
       "      <td>1.283973e+07</td>\n",
       "    </tr>\n",
       "    <tr>\n",
       "      <th>ACIC_2021-02-16</th>\n",
       "      <td>ACIC</td>\n",
       "      <td>2021-02-16</td>\n",
       "      <td>ATLAS CREST INVESTMENT CORP</td>\n",
       "      <td>ARKQ</td>\n",
       "      <td>372574</td>\n",
       "      <td>14.870000</td>\n",
       "      <td>Buy</td>\n",
       "      <td>5.540175e+06</td>\n",
       "      <td>5.540175e+06</td>\n",
       "    </tr>\n",
       "    <tr>\n",
       "      <th>AMZN_2021-02-16</th>\n",
       "      <td>AMZN</td>\n",
       "      <td>2021-02-16</td>\n",
       "      <td>AMAZON.COM INC</td>\n",
       "      <td>ARKQ</td>\n",
       "      <td>1875</td>\n",
       "      <td>3254.050049</td>\n",
       "      <td>Buy</td>\n",
       "      <td>6.101344e+06</td>\n",
       "      <td>6.101344e+06</td>\n",
       "    </tr>\n",
       "    <tr>\n",
       "      <th>API_2021-02-01</th>\n",
       "      <td>API</td>\n",
       "      <td>2021-02-01</td>\n",
       "      <td>AGORA INC</td>\n",
       "      <td>ARKW</td>\n",
       "      <td>-54100</td>\n",
       "      <td>72.080002</td>\n",
       "      <td>Sell</td>\n",
       "      <td>-3.899528e+06</td>\n",
       "      <td>3.899528e+06</td>\n",
       "    </tr>\n",
       "    <tr>\n",
       "      <th>API_2021-02-05</th>\n",
       "      <td>API</td>\n",
       "      <td>2021-02-05</td>\n",
       "      <td>AGORA INC</td>\n",
       "      <td>ARKW</td>\n",
       "      <td>-120800</td>\n",
       "      <td>87.190002</td>\n",
       "      <td>Sell</td>\n",
       "      <td>-1.053255e+07</td>\n",
       "      <td>1.053255e+07</td>\n",
       "    </tr>\n",
       "    <tr>\n",
       "      <th>...</th>\n",
       "      <td>...</td>\n",
       "      <td>...</td>\n",
       "      <td>...</td>\n",
       "      <td>...</td>\n",
       "      <td>...</td>\n",
       "      <td>...</td>\n",
       "      <td>...</td>\n",
       "      <td>...</td>\n",
       "      <td>...</td>\n",
       "    </tr>\n",
       "    <tr>\n",
       "      <th>VRTX_2021-02-02</th>\n",
       "      <td>VRTX</td>\n",
       "      <td>2021-02-02</td>\n",
       "      <td>VERTEX PHARMACEUTICALS INC</td>\n",
       "      <td>ARKG</td>\n",
       "      <td>81700</td>\n",
       "      <td>225.800003</td>\n",
       "      <td>Buy</td>\n",
       "      <td>1.844786e+07</td>\n",
       "      <td>1.844786e+07</td>\n",
       "    </tr>\n",
       "    <tr>\n",
       "      <th>VRTX_2021-02-03</th>\n",
       "      <td>VRTX</td>\n",
       "      <td>2021-02-03</td>\n",
       "      <td>VERTEX PHARMACEUTICALS INC</td>\n",
       "      <td>ARKG</td>\n",
       "      <td>57100</td>\n",
       "      <td>218.419998</td>\n",
       "      <td>Buy</td>\n",
       "      <td>1.247178e+07</td>\n",
       "      <td>1.247178e+07</td>\n",
       "    </tr>\n",
       "    <tr>\n",
       "      <th>VRTX_2021-02-05</th>\n",
       "      <td>VRTX</td>\n",
       "      <td>2021-02-05</td>\n",
       "      <td>VERTEX PHARMACEUTICALS INC</td>\n",
       "      <td>ARKG</td>\n",
       "      <td>111700</td>\n",
       "      <td>214.500000</td>\n",
       "      <td>Buy</td>\n",
       "      <td>2.395965e+07</td>\n",
       "      <td>2.395965e+07</td>\n",
       "    </tr>\n",
       "    <tr>\n",
       "      <th>Z_2021-02-01</th>\n",
       "      <td>Z</td>\n",
       "      <td>2021-02-01</td>\n",
       "      <td>ZILLOW GROUP INC</td>\n",
       "      <td>ARKK</td>\n",
       "      <td>-85043</td>\n",
       "      <td>131.259995</td>\n",
       "      <td>Sell</td>\n",
       "      <td>-1.116274e+07</td>\n",
       "      <td>1.116274e+07</td>\n",
       "    </tr>\n",
       "    <tr>\n",
       "      <th>Z_2021-02-16</th>\n",
       "      <td>Z</td>\n",
       "      <td>2021-02-16</td>\n",
       "      <td>ZILLOW GROUP INC</td>\n",
       "      <td>ARKW</td>\n",
       "      <td>-67864</td>\n",
       "      <td>200.990005</td>\n",
       "      <td>Sell</td>\n",
       "      <td>-1.363999e+07</td>\n",
       "      <td>1.363999e+07</td>\n",
       "    </tr>\n",
       "  </tbody>\n",
       "</table>\n",
       "<p>240 rows × 9 columns</p>\n",
       "</div>"
      ],
      "text/plain": [
       "                ticker       date                      company  fund  shares  \\\n",
       "key1                                                                           \n",
       "ABBV_2021-02-16   ABBV 2021-02-16                   ABBVIE INC  ARKG  121900   \n",
       "ACIC_2021-02-16   ACIC 2021-02-16  ATLAS CREST INVESTMENT CORP  ARKQ  372574   \n",
       "AMZN_2021-02-16   AMZN 2021-02-16               AMAZON.COM INC  ARKQ    1875   \n",
       "API_2021-02-01     API 2021-02-01                    AGORA INC  ARKW  -54100   \n",
       "API_2021-02-05     API 2021-02-05                    AGORA INC  ARKW -120800   \n",
       "...                ...        ...                          ...   ...     ...   \n",
       "VRTX_2021-02-02   VRTX 2021-02-02   VERTEX PHARMACEUTICALS INC  ARKG   81700   \n",
       "VRTX_2021-02-03   VRTX 2021-02-03   VERTEX PHARMACEUTICALS INC  ARKG   57100   \n",
       "VRTX_2021-02-05   VRTX 2021-02-05   VERTEX PHARMACEUTICALS INC  ARKG  111700   \n",
       "Z_2021-02-01         Z 2021-02-01             ZILLOW GROUP INC  ARKK  -85043   \n",
       "Z_2021-02-16         Z 2021-02-16             ZILLOW GROUP INC  ARKW  -67864   \n",
       "\n",
       "                        Open signal        volume    abs_volume  \n",
       "key1                                                             \n",
       "ABBV_2021-02-16   105.330002    Buy  1.283973e+07  1.283973e+07  \n",
       "ACIC_2021-02-16    14.870000    Buy  5.540175e+06  5.540175e+06  \n",
       "AMZN_2021-02-16  3254.050049    Buy  6.101344e+06  6.101344e+06  \n",
       "API_2021-02-01     72.080002   Sell -3.899528e+06  3.899528e+06  \n",
       "API_2021-02-05     87.190002   Sell -1.053255e+07  1.053255e+07  \n",
       "...                      ...    ...           ...           ...  \n",
       "VRTX_2021-02-02   225.800003    Buy  1.844786e+07  1.844786e+07  \n",
       "VRTX_2021-02-03   218.419998    Buy  1.247178e+07  1.247178e+07  \n",
       "VRTX_2021-02-05   214.500000    Buy  2.395965e+07  2.395965e+07  \n",
       "Z_2021-02-01      131.259995   Sell -1.116274e+07  1.116274e+07  \n",
       "Z_2021-02-16      200.990005   Sell -1.363999e+07  1.363999e+07  \n",
       "\n",
       "[240 rows x 9 columns]"
      ]
     },
     "execution_count": 68,
     "metadata": {},
     "output_type": "execute_result"
    }
   ],
   "source": [
    "# net & volume of trades (assume on open price)\n",
    "net = df.copy()[[\"fund\", \"date\", \"direction\", \"ticker\", \"company\", \"shares\"]]\n",
    "net[\"shares\"] = net.apply(lambda row:row[\"shares\"] if row[\"direction\"]==\"Buy\" else -row[\"shares\"], axis=1)\n",
    "net = net.groupby([\"ticker\", \"date\", \"company\", \"fund\"], as_index=False).agg({'shares':'sum'}) # total shares per ticker per date\n",
    "\n",
    "# make key\n",
    "net[\"key1\"] = net[\"ticker\"].astype(str) + \"_\" + net[\"date\"].astype(str)\n",
    "net.set_index(\"key1\", inplace=True)\n",
    "\n",
    "# link to price\n",
    "net = net.join(open_prices[[\"Open\"]], how=\"inner\")\n",
    "\n",
    "# new cols\n",
    "net[\"signal\"] = net[\"shares\"].apply(lambda x: \"Buy\" if x>0 else \"Sell\")\n",
    "net[\"volume\"] = net[\"shares\"] * net[\"Open\"]\n",
    "net[\"abs_volume\"] = abs(net[\"volume\"])\n",
    "\n",
    "net"
   ]
  },
  {
   "cell_type": "code",
   "execution_count": 76,
   "metadata": {},
   "outputs": [
    {
     "data": {
      "application/vnd.plotly.v1+json": {
       "config": {
        "plotlyServerURL": "https://plot.ly"
       },
       "data": [
        {
         "name": "ABBV",
         "showlegend": false,
         "type": "bar",
         "x": [
          "2021-02-16"
         ],
         "y": [
          12839727.223205566
         ]
        },
        {
         "name": "ACIC",
         "showlegend": false,
         "type": "bar",
         "x": [
          "2021-02-16"
         ],
         "y": [
          5540175.337362289
         ]
        },
        {
         "name": "AMZN",
         "showlegend": false,
         "type": "bar",
         "x": [
          "2021-02-16"
         ],
         "y": [
          6101343.841552734
         ]
        },
        {
         "name": "API",
         "showlegend": false,
         "type": "bar",
         "x": [
          "2021-02-01",
          "2021-02-05",
          "2021-02-08",
          "2021-02-09",
          "2021-02-10",
          "2021-02-16"
         ],
         "y": [
          3899528.0990600586,
          10532552.294921875,
          16273279,
          9872559.41921997,
          1763900,
          2856741.5
         ]
        },
        {
         "name": "AVAV",
         "showlegend": false,
         "type": "bar",
         "x": [
          "2021-02-01",
          "2021-02-02",
          "2021-02-03",
          "2021-02-04",
          "2021-02-05",
          "2021-02-08",
          "2021-02-16"
         ],
         "y": [
          736085.2856140137,
          753254.5729904175,
          1558305,
          1547089.380744934,
          1020054,
          748515.5546264648,
          845215.3074645996
         ]
        },
        {
         "name": "BABA",
         "showlegend": false,
         "type": "bar",
         "x": [
          "2021-02-08"
         ],
         "y": [
          36127109.71786499
         ]
        },
        {
         "name": "BEAM",
         "showlegend": false,
         "type": "bar",
         "x": [
          "2021-02-01",
          "2021-02-02",
          "2021-02-16"
         ],
         "y": [
          5804916.726699829,
          1821000,
          5490074.722145081
         ]
        },
        {
         "name": "BEKE",
         "showlegend": false,
         "type": "bar",
         "x": [
          "2021-02-01",
          "2021-02-02"
         ],
         "y": [
          6822568.050765991,
          7314057.191848755
         ]
        },
        {
         "name": "BFLY",
         "showlegend": false,
         "type": "bar",
         "x": [
          "2021-02-16"
         ],
         "y": [
          679718.3790893555
         ]
        },
        {
         "name": "BILL",
         "showlegend": false,
         "type": "bar",
         "x": [
          "2021-02-04"
         ],
         "y": [
          13399826.053268433
         ]
        },
        {
         "name": "BYDDY",
         "showlegend": false,
         "type": "bar",
         "x": [
          "2021-02-01",
          "2021-02-02",
          "2021-02-03",
          "2021-02-04",
          "2021-02-16"
         ],
         "y": [
          2026902.9046325684,
          2531559.669189453,
          2199189.952468872,
          1197490.9281921387,
          858533.5
         ]
        },
        {
         "name": "CDNA",
         "showlegend": false,
         "type": "bar",
         "x": [
          "2021-02-08",
          "2021-02-09",
          "2021-02-10",
          "2021-02-16"
         ],
         "y": [
          3264129.6675872803,
          11371990.773971558,
          6886210.918121338,
          836807.2196960449
         ]
        },
        {
         "name": "CDXS",
         "showlegend": false,
         "type": "bar",
         "x": [
          "2021-02-01"
         ],
         "y": [
          1468679.5
         ]
        },
        {
         "name": "CMLF",
         "showlegend": false,
         "type": "bar",
         "x": [
          "2021-02-11"
         ],
         "y": [
          32423567.54374695
         ]
        },
        {
         "name": "DKNG",
         "showlegend": false,
         "type": "bar",
         "x": [
          "2021-02-01",
          "2021-02-08",
          "2021-02-09"
         ],
         "y": [
          33831162.56790161,
          32515328.61328125,
          27657546.783447266
         ]
        },
        {
         "name": "EXPC",
         "showlegend": false,
         "type": "bar",
         "x": [
          "2021-02-08",
          "2021-02-09",
          "2021-02-10",
          "2021-02-11"
         ],
         "y": [
          1314438.3163862228,
          666333.5751180649,
          626066.028968811,
          3319103.985595703
         ]
        },
        {
         "name": "FATE",
         "showlegend": false,
         "type": "bar",
         "x": [
          "2021-02-01",
          "2021-02-02",
          "2021-02-03",
          "2021-02-04",
          "2021-02-10",
          "2021-02-11",
          "2021-02-12",
          "2021-02-16"
         ],
         "y": [
          14170020.248542786,
          564288,
          9727452.50074768,
          5648205.686950684,
          1271916.5780639648,
          3734467.638320923,
          3452638.1256103516,
          2746573.5
         ]
        },
        {
         "name": "FLIR",
         "showlegend": false,
         "type": "bar",
         "x": [
          "2021-02-01",
          "2021-02-02",
          "2021-02-03",
          "2021-02-04"
         ],
         "y": [
          3709534.2246398926,
          3486060,
          2739912.8752441406,
          2422248.7921943665
         ]
        },
        {
         "name": "FSLY",
         "showlegend": false,
         "type": "bar",
         "x": [
          "2021-02-01",
          "2021-02-02"
         ],
         "y": [
          18307985.382369995,
          2507544.076538086
         ]
        },
        {
         "name": "HUYA",
         "showlegend": false,
         "type": "bar",
         "x": [
          "2021-02-05"
         ],
         "y": [
          5735583.834075928
         ]
        },
        {
         "name": "IRDM",
         "showlegend": false,
         "type": "bar",
         "x": [
          "2021-02-01",
          "2021-02-02",
          "2021-02-11",
          "2021-02-12",
          "2021-02-16"
         ],
         "y": [
          1996500.5,
          4356188.079471588,
          21080452.5,
          15362523.610031128,
          2223751.3676605225
         ]
        },
        {
         "name": "ISRG",
         "showlegend": false,
         "type": "bar",
         "x": [
          "2021-02-12",
          "2021-02-16"
         ],
         "y": [
          16682154.923828125,
          1452330
         ]
        },
        {
         "name": "KMTUY",
         "showlegend": false,
         "type": "bar",
         "x": [
          "2021-02-08",
          "2021-02-09",
          "2021-02-10",
          "2021-02-11",
          "2021-02-12",
          "2021-02-16"
         ],
         "y": [
          227666.8729248047,
          3463880.4605674744,
          2141194.8854599,
          537300.0068664551,
          600000,
          1539216.0461425781
         ]
        },
        {
         "name": "KTOS",
         "showlegend": false,
         "type": "bar",
         "x": [
          "2021-02-05",
          "2021-02-08"
         ],
         "y": [
          3999173.5,
          1346720.0467205048
         ]
        },
        {
         "name": "LGVW",
         "showlegend": false,
         "type": "bar",
         "x": [
          "2021-02-05",
          "2021-02-12"
         ],
         "y": [
          1346360,
          237676.16306304932
         ]
        },
        {
         "name": "LMT",
         "showlegend": false,
         "type": "bar",
         "x": [
          "2021-02-01",
          "2021-02-02",
          "2021-02-12",
          "2021-02-16"
         ],
         "y": [
          15488004.47277832,
          5402594.879150391,
          13351910.159179688,
          3596050
         ]
        },
        {
         "name": "LSPD",
         "showlegend": false,
         "type": "bar",
         "x": [
          "2021-02-04",
          "2021-02-05",
          "2021-02-09",
          "2021-02-10",
          "2021-02-11"
         ],
         "y": [
          29037579.432678223,
          8272767.03414917,
          3027023.973083496,
          1194868.0557250977,
          5230641.419532776
         ]
        },
        {
         "name": "MELI",
         "showlegend": false,
         "type": "bar",
         "x": [
          "2021-02-08"
         ],
         "y": [
          10345828
         ]
        },
        {
         "name": "MTLS",
         "showlegend": false,
         "type": "bar",
         "x": [
          "2021-02-01",
          "2021-02-02",
          "2021-02-03",
          "2021-02-04",
          "2021-02-08",
          "2021-02-09",
          "2021-02-10",
          "2021-02-11",
          "2021-02-12",
          "2021-02-16"
         ],
         "y": [
          4140359.9243164062,
          4033970.1861572266,
          3461915.598678589,
          1481130,
          5204900,
          3305715.864959717,
          1391084.7499389648,
          3102399.90234375,
          1160632.0891571045,
          1652394.2980957031
         ]
        },
        {
         "name": "NNDM",
         "showlegend": false,
         "type": "bar",
         "x": [
          "2021-02-01",
          "2021-02-03",
          "2021-02-08",
          "2021-02-09"
         ],
         "y": [
          4247829.885482788,
          4721051.86958313,
          6101051.18452549,
          7759887.777709961
         ]
        },
        {
         "name": "NTDOY",
         "showlegend": false,
         "type": "bar",
         "x": [
          "2021-02-10",
          "2021-02-11",
          "2021-02-12",
          "2021-02-16"
         ],
         "y": [
          777700,
          3578829.3483276367,
          3929647.373954773,
          5576585.250854492
         ]
        },
        {
         "name": "NVDA",
         "showlegend": false,
         "type": "bar",
         "x": [
          "2021-02-01",
          "2021-02-05"
         ],
         "y": [
          48377433.47241211,
          10216341
         ]
        },
        {
         "name": "NVS",
         "showlegend": false,
         "type": "bar",
         "x": [
          "2021-02-02",
          "2021-02-03",
          "2021-02-04",
          "2021-02-05",
          "2021-02-08",
          "2021-02-09",
          "2021-02-10",
          "2021-02-11",
          "2021-02-12"
         ],
         "y": [
          2777881.3874816895,
          26796689.992378235,
          22319128.475250244,
          25554883.016586304,
          5784143.28414917,
          38836343,
          16429912,
          17961874.07775879,
          14209866.837226868
         ]
        },
        {
         "name": "ONVO",
         "showlegend": false,
         "type": "bar",
         "x": [
          "2021-02-03",
          "2021-02-04",
          "2021-02-05",
          "2021-02-08",
          "2021-02-09",
          "2021-02-10",
          "2021-02-11",
          "2021-02-12",
          "2021-02-16"
         ],
         "y": [
          345775.68771362305,
          114508.60825157166,
          266645.28840637207,
          2526553.2832603455,
          828211.171875,
          570055.8854866028,
          720955.46708107,
          92488.00201416016,
          68417.43897247314
         ]
        },
        {
         "name": "PACB",
         "showlegend": false,
         "type": "bar",
         "x": [
          "2021-02-01",
          "2021-02-11",
          "2021-02-16"
         ],
         "y": [
          6995180.743637085,
          34023171,
          871374.4004058838
         ]
        },
        {
         "name": "PCAR",
         "showlegend": false,
         "type": "bar",
         "x": [
          "2021-02-01",
          "2021-02-02",
          "2021-02-03",
          "2021-02-04",
          "2021-02-08",
          "2021-02-09",
          "2021-02-10"
         ],
         "y": [
          24146063.002700806,
          32647275,
          29586235.08595276,
          33212165.7913208,
          5084439.698135376,
          6742056.012374878,
          7162133.825683594
         ]
        },
        {
         "name": "PDD",
         "showlegend": false,
         "type": "bar",
         "x": [
          "2021-02-08"
         ],
         "y": [
          17146075.987243652
         ]
        },
        {
         "name": "PD",
         "showlegend": false,
         "type": "bar",
         "x": [
          "2021-02-16"
         ],
         "y": [
          1784740.5763397217
         ]
        },
        {
         "name": "PINS",
         "showlegend": false,
         "type": "bar",
         "x": [
          "2021-02-05",
          "2021-02-08",
          "2021-02-09"
         ],
         "y": [
          126901135.70729065,
          36899027.47828674,
          27397536.947631836
         ]
        },
        {
         "name": "PLTR",
         "showlegend": false,
         "type": "bar",
         "x": [
          "2021-02-16"
         ],
         "y": [
          46837204.71420288
         ]
        },
        {
         "name": "PSTG",
         "showlegend": false,
         "type": "bar",
         "x": [
          "2021-02-03",
          "2021-02-04",
          "2021-02-05",
          "2021-02-08",
          "2021-02-16"
         ],
         "y": [
          6622456.99987793,
          5020462.968875885,
          6506892.073059082,
          18881107.647478104,
          7786992.497566223
         ]
        },
        {
         "name": "PTON",
         "showlegend": false,
         "type": "bar",
         "x": [
          "2021-02-05"
         ],
         "y": [
          15823800
         ]
        },
        {
         "name": "PYPL",
         "showlegend": false,
         "type": "bar",
         "x": [
          "2021-02-01",
          "2021-02-04",
          "2021-02-05",
          "2021-02-09",
          "2021-02-10",
          "2021-02-11"
         ],
         "y": [
          17861302.104125977,
          17538973.75793457,
          6646216.867553711,
          5775828.1005859375,
          1254440.0268554688,
          4900700.2509765625
         ]
        },
        {
         "name": "RAVN",
         "showlegend": false,
         "type": "bar",
         "x": [
          "2021-02-16"
         ],
         "y": [
          697716.7869033813
         ]
        },
        {
         "name": "REGN",
         "showlegend": false,
         "type": "bar",
         "x": [
          "2021-02-01",
          "2021-02-05",
          "2021-02-08",
          "2021-02-09",
          "2021-02-10"
         ],
         "y": [
          2630766.637573242,
          32218283.523864746,
          36326709.05761719,
          20416817.01980591,
          35049812.66973877
         ]
        },
        {
         "name": "RHHBY",
         "showlegend": false,
         "type": "bar",
         "x": [
          "2021-02-08",
          "2021-02-09",
          "2021-02-10",
          "2021-02-11",
          "2021-02-12"
         ],
         "y": [
          3171186.0900878906,
          8693352.214050293,
          21270173.928588867,
          10712013.891059875,
          5810781.642242432
         ]
        },
        {
         "name": "ROKU",
         "showlegend": false,
         "type": "bar",
         "x": [
          "2021-02-01",
          "2021-02-03",
          "2021-02-04",
          "2021-02-05"
         ],
         "y": [
          28955549.536499023,
          22625029.483520508,
          31390867.254638672,
          25913273.31121826
         ]
        },
        {
         "name": "RPTX",
         "showlegend": false,
         "type": "bar",
         "x": [
          "2021-02-01",
          "2021-02-02"
         ],
         "y": [
          387257.7784309387,
          317557.79359054565
         ]
        },
        {
         "name": "SE",
         "showlegend": false,
         "type": "bar",
         "x": [
          "2021-02-02",
          "2021-02-08",
          "2021-02-09",
          "2021-02-16"
         ],
         "y": [
          6950910.906051636,
          36126317.530944824,
          14510167.232818604,
          9001987.948760986
         ]
        },
        {
         "name": "SGFY",
         "showlegend": false,
         "type": "bar",
         "x": [
          "2021-02-16"
         ],
         "y": [
          13261284.525066376
         ]
        },
        {
         "name": "SHOP",
         "showlegend": false,
         "type": "bar",
         "x": [
          "2021-02-08",
          "2021-02-09",
          "2021-02-10",
          "2021-02-11"
         ],
         "y": [
          57674942.592041016,
          40556241.87011719,
          15112880.471923828,
          13826653.145751953
         ]
        },
        {
         "name": "SNAP",
         "showlegend": false,
         "type": "bar",
         "x": [
          "2021-02-05"
         ],
         "y": [
          123357916.81480408
         ]
        },
        {
         "name": "SPCE",
         "showlegend": false,
         "type": "bar",
         "x": [
          "2021-02-01",
          "2021-02-08",
          "2021-02-09",
          "2021-02-12"
         ],
         "y": [
          5155680.799865723,
          14199064.42565918,
          1150295.1681785583,
          13636259.609985352
         ]
        },
        {
         "name": "SPLK",
         "showlegend": false,
         "type": "bar",
         "x": [
          "2021-02-01",
          "2021-02-02",
          "2021-02-03",
          "2021-02-04",
          "2021-02-05",
          "2021-02-08",
          "2021-02-09",
          "2021-02-10",
          "2021-02-16"
         ],
         "y": [
          5594760.174438477,
          11456752,
          30813000.833129883,
          13021307.904968262,
          17118789.541503906,
          12613996.856140137,
          3107217.9866638184,
          19852758.139526367,
          20819100
         ]
        },
        {
         "name": "SPOT",
         "showlegend": false,
         "type": "bar",
         "x": [
          "2021-02-03"
         ],
         "y": [
          161948552
         ]
        },
        {
         "name": "SQ",
         "showlegend": false,
         "type": "bar",
         "x": [
          "2021-02-01"
         ],
         "y": [
          19153568.903320312
         ]
        },
        {
         "name": "SSYS",
         "showlegend": false,
         "type": "bar",
         "x": [
          "2021-02-09",
          "2021-02-10",
          "2021-02-11",
          "2021-02-16"
         ],
         "y": [
          5612492.372093201,
          821885.9882354736,
          4626221.715156555,
          1442185.2499809265
         ]
        },
        {
         "name": "TCEHY",
         "showlegend": false,
         "type": "bar",
         "x": [
          "2021-02-08",
          "2021-02-09"
         ],
         "y": [
          28886723.35333252,
          22564449.179748535
         ]
        },
        {
         "name": "TDY",
         "showlegend": false,
         "type": "bar",
         "x": [
          "2021-02-12",
          "2021-02-16"
         ],
         "y": [
          15599970.949401855,
          12886127.960205078
         ]
        },
        {
         "name": "TER",
         "showlegend": false,
         "type": "bar",
         "x": [
          "2021-02-01",
          "2021-02-02",
          "2021-02-03",
          "2021-02-04",
          "2021-02-05"
         ],
         "y": [
          34410721.5,
          73588176,
          36305489.56893921,
          11022957.447532654,
          6269512.875419617
         ]
        },
        {
         "name": "TMO",
         "showlegend": false,
         "type": "bar",
         "x": [
          "2021-02-05"
         ],
         "y": [
          17554010.84640503
         ]
        },
        {
         "name": "TSM",
         "showlegend": false,
         "type": "bar",
         "x": [
          "2021-02-01",
          "2021-02-08",
          "2021-02-09",
          "2021-02-16"
         ],
         "y": [
          43518386.13991547,
          14951336.045471191,
          10186097.135177612,
          10148763.913742065
         ]
        },
        {
         "name": "TWST",
         "showlegend": false,
         "type": "bar",
         "x": [
          "2021-02-02",
          "2021-02-03",
          "2021-02-16"
         ],
         "y": [
          6743444.155487061,
          19166401.25,
          285696.23205566406
         ]
        },
        {
         "name": "TWTR",
         "showlegend": false,
         "type": "bar",
         "x": [
          "2021-02-08",
          "2021-02-09"
         ],
         "y": [
          25210625.6672287,
          28335844.58506775
         ]
        },
        {
         "name": "U",
         "showlegend": false,
         "type": "bar",
         "x": [
          "2021-02-05",
          "2021-02-08"
         ],
         "y": [
          100940400,
          76896360.91918945
         ]
        },
        {
         "name": "VCYT",
         "showlegend": false,
         "type": "bar",
         "x": [
          "2021-02-16"
         ],
         "y": [
          1670362.6058883667
         ]
        },
        {
         "name": "VEEV",
         "showlegend": false,
         "type": "bar",
         "x": [
          "2021-02-16"
         ],
         "y": [
          5705912.441375732
         ]
        },
        {
         "name": "VRTX",
         "showlegend": false,
         "type": "bar",
         "x": [
          "2021-02-02",
          "2021-02-03",
          "2021-02-05"
         ],
         "y": [
          18447860.249328613,
          12471781.895446777,
          23959650
         ]
        },
        {
         "name": "Z",
         "showlegend": false,
         "type": "bar",
         "x": [
          "2021-02-01",
          "2021-02-16"
         ],
         "y": [
          11162743.712844849,
          13639985.732788086
         ]
        }
       ],
       "layout": {
        "autosize": true,
        "barmode": "stack",
        "template": {
         "data": {
          "bar": [
           {
            "error_x": {
             "color": "#2a3f5f"
            },
            "error_y": {
             "color": "#2a3f5f"
            },
            "marker": {
             "line": {
              "color": "#E5ECF6",
              "width": 0.5
             }
            },
            "type": "bar"
           }
          ],
          "barpolar": [
           {
            "marker": {
             "line": {
              "color": "#E5ECF6",
              "width": 0.5
             }
            },
            "type": "barpolar"
           }
          ],
          "carpet": [
           {
            "aaxis": {
             "endlinecolor": "#2a3f5f",
             "gridcolor": "white",
             "linecolor": "white",
             "minorgridcolor": "white",
             "startlinecolor": "#2a3f5f"
            },
            "baxis": {
             "endlinecolor": "#2a3f5f",
             "gridcolor": "white",
             "linecolor": "white",
             "minorgridcolor": "white",
             "startlinecolor": "#2a3f5f"
            },
            "type": "carpet"
           }
          ],
          "choropleth": [
           {
            "colorbar": {
             "outlinewidth": 0,
             "ticks": ""
            },
            "type": "choropleth"
           }
          ],
          "contour": [
           {
            "colorbar": {
             "outlinewidth": 0,
             "ticks": ""
            },
            "colorscale": [
             [
              0,
              "#0d0887"
             ],
             [
              0.1111111111111111,
              "#46039f"
             ],
             [
              0.2222222222222222,
              "#7201a8"
             ],
             [
              0.3333333333333333,
              "#9c179e"
             ],
             [
              0.4444444444444444,
              "#bd3786"
             ],
             [
              0.5555555555555556,
              "#d8576b"
             ],
             [
              0.6666666666666666,
              "#ed7953"
             ],
             [
              0.7777777777777778,
              "#fb9f3a"
             ],
             [
              0.8888888888888888,
              "#fdca26"
             ],
             [
              1,
              "#f0f921"
             ]
            ],
            "type": "contour"
           }
          ],
          "contourcarpet": [
           {
            "colorbar": {
             "outlinewidth": 0,
             "ticks": ""
            },
            "type": "contourcarpet"
           }
          ],
          "heatmap": [
           {
            "colorbar": {
             "outlinewidth": 0,
             "ticks": ""
            },
            "colorscale": [
             [
              0,
              "#0d0887"
             ],
             [
              0.1111111111111111,
              "#46039f"
             ],
             [
              0.2222222222222222,
              "#7201a8"
             ],
             [
              0.3333333333333333,
              "#9c179e"
             ],
             [
              0.4444444444444444,
              "#bd3786"
             ],
             [
              0.5555555555555556,
              "#d8576b"
             ],
             [
              0.6666666666666666,
              "#ed7953"
             ],
             [
              0.7777777777777778,
              "#fb9f3a"
             ],
             [
              0.8888888888888888,
              "#fdca26"
             ],
             [
              1,
              "#f0f921"
             ]
            ],
            "type": "heatmap"
           }
          ],
          "heatmapgl": [
           {
            "colorbar": {
             "outlinewidth": 0,
             "ticks": ""
            },
            "colorscale": [
             [
              0,
              "#0d0887"
             ],
             [
              0.1111111111111111,
              "#46039f"
             ],
             [
              0.2222222222222222,
              "#7201a8"
             ],
             [
              0.3333333333333333,
              "#9c179e"
             ],
             [
              0.4444444444444444,
              "#bd3786"
             ],
             [
              0.5555555555555556,
              "#d8576b"
             ],
             [
              0.6666666666666666,
              "#ed7953"
             ],
             [
              0.7777777777777778,
              "#fb9f3a"
             ],
             [
              0.8888888888888888,
              "#fdca26"
             ],
             [
              1,
              "#f0f921"
             ]
            ],
            "type": "heatmapgl"
           }
          ],
          "histogram": [
           {
            "marker": {
             "colorbar": {
              "outlinewidth": 0,
              "ticks": ""
             }
            },
            "type": "histogram"
           }
          ],
          "histogram2d": [
           {
            "colorbar": {
             "outlinewidth": 0,
             "ticks": ""
            },
            "colorscale": [
             [
              0,
              "#0d0887"
             ],
             [
              0.1111111111111111,
              "#46039f"
             ],
             [
              0.2222222222222222,
              "#7201a8"
             ],
             [
              0.3333333333333333,
              "#9c179e"
             ],
             [
              0.4444444444444444,
              "#bd3786"
             ],
             [
              0.5555555555555556,
              "#d8576b"
             ],
             [
              0.6666666666666666,
              "#ed7953"
             ],
             [
              0.7777777777777778,
              "#fb9f3a"
             ],
             [
              0.8888888888888888,
              "#fdca26"
             ],
             [
              1,
              "#f0f921"
             ]
            ],
            "type": "histogram2d"
           }
          ],
          "histogram2dcontour": [
           {
            "colorbar": {
             "outlinewidth": 0,
             "ticks": ""
            },
            "colorscale": [
             [
              0,
              "#0d0887"
             ],
             [
              0.1111111111111111,
              "#46039f"
             ],
             [
              0.2222222222222222,
              "#7201a8"
             ],
             [
              0.3333333333333333,
              "#9c179e"
             ],
             [
              0.4444444444444444,
              "#bd3786"
             ],
             [
              0.5555555555555556,
              "#d8576b"
             ],
             [
              0.6666666666666666,
              "#ed7953"
             ],
             [
              0.7777777777777778,
              "#fb9f3a"
             ],
             [
              0.8888888888888888,
              "#fdca26"
             ],
             [
              1,
              "#f0f921"
             ]
            ],
            "type": "histogram2dcontour"
           }
          ],
          "mesh3d": [
           {
            "colorbar": {
             "outlinewidth": 0,
             "ticks": ""
            },
            "type": "mesh3d"
           }
          ],
          "parcoords": [
           {
            "line": {
             "colorbar": {
              "outlinewidth": 0,
              "ticks": ""
             }
            },
            "type": "parcoords"
           }
          ],
          "pie": [
           {
            "automargin": true,
            "type": "pie"
           }
          ],
          "scatter": [
           {
            "marker": {
             "colorbar": {
              "outlinewidth": 0,
              "ticks": ""
             }
            },
            "type": "scatter"
           }
          ],
          "scatter3d": [
           {
            "line": {
             "colorbar": {
              "outlinewidth": 0,
              "ticks": ""
             }
            },
            "marker": {
             "colorbar": {
              "outlinewidth": 0,
              "ticks": ""
             }
            },
            "type": "scatter3d"
           }
          ],
          "scattercarpet": [
           {
            "marker": {
             "colorbar": {
              "outlinewidth": 0,
              "ticks": ""
             }
            },
            "type": "scattercarpet"
           }
          ],
          "scattergeo": [
           {
            "marker": {
             "colorbar": {
              "outlinewidth": 0,
              "ticks": ""
             }
            },
            "type": "scattergeo"
           }
          ],
          "scattergl": [
           {
            "marker": {
             "colorbar": {
              "outlinewidth": 0,
              "ticks": ""
             }
            },
            "type": "scattergl"
           }
          ],
          "scattermapbox": [
           {
            "marker": {
             "colorbar": {
              "outlinewidth": 0,
              "ticks": ""
             }
            },
            "type": "scattermapbox"
           }
          ],
          "scatterpolar": [
           {
            "marker": {
             "colorbar": {
              "outlinewidth": 0,
              "ticks": ""
             }
            },
            "type": "scatterpolar"
           }
          ],
          "scatterpolargl": [
           {
            "marker": {
             "colorbar": {
              "outlinewidth": 0,
              "ticks": ""
             }
            },
            "type": "scatterpolargl"
           }
          ],
          "scatterternary": [
           {
            "marker": {
             "colorbar": {
              "outlinewidth": 0,
              "ticks": ""
             }
            },
            "type": "scatterternary"
           }
          ],
          "surface": [
           {
            "colorbar": {
             "outlinewidth": 0,
             "ticks": ""
            },
            "colorscale": [
             [
              0,
              "#0d0887"
             ],
             [
              0.1111111111111111,
              "#46039f"
             ],
             [
              0.2222222222222222,
              "#7201a8"
             ],
             [
              0.3333333333333333,
              "#9c179e"
             ],
             [
              0.4444444444444444,
              "#bd3786"
             ],
             [
              0.5555555555555556,
              "#d8576b"
             ],
             [
              0.6666666666666666,
              "#ed7953"
             ],
             [
              0.7777777777777778,
              "#fb9f3a"
             ],
             [
              0.8888888888888888,
              "#fdca26"
             ],
             [
              1,
              "#f0f921"
             ]
            ],
            "type": "surface"
           }
          ],
          "table": [
           {
            "cells": {
             "fill": {
              "color": "#EBF0F8"
             },
             "line": {
              "color": "white"
             }
            },
            "header": {
             "fill": {
              "color": "#C8D4E3"
             },
             "line": {
              "color": "white"
             }
            },
            "type": "table"
           }
          ]
         },
         "layout": {
          "annotationdefaults": {
           "arrowcolor": "#2a3f5f",
           "arrowhead": 0,
           "arrowwidth": 1
          },
          "coloraxis": {
           "colorbar": {
            "outlinewidth": 0,
            "ticks": ""
           }
          },
          "colorscale": {
           "diverging": [
            [
             0,
             "#8e0152"
            ],
            [
             0.1,
             "#c51b7d"
            ],
            [
             0.2,
             "#de77ae"
            ],
            [
             0.3,
             "#f1b6da"
            ],
            [
             0.4,
             "#fde0ef"
            ],
            [
             0.5,
             "#f7f7f7"
            ],
            [
             0.6,
             "#e6f5d0"
            ],
            [
             0.7,
             "#b8e186"
            ],
            [
             0.8,
             "#7fbc41"
            ],
            [
             0.9,
             "#4d9221"
            ],
            [
             1,
             "#276419"
            ]
           ],
           "sequential": [
            [
             0,
             "#0d0887"
            ],
            [
             0.1111111111111111,
             "#46039f"
            ],
            [
             0.2222222222222222,
             "#7201a8"
            ],
            [
             0.3333333333333333,
             "#9c179e"
            ],
            [
             0.4444444444444444,
             "#bd3786"
            ],
            [
             0.5555555555555556,
             "#d8576b"
            ],
            [
             0.6666666666666666,
             "#ed7953"
            ],
            [
             0.7777777777777778,
             "#fb9f3a"
            ],
            [
             0.8888888888888888,
             "#fdca26"
            ],
            [
             1,
             "#f0f921"
            ]
           ],
           "sequentialminus": [
            [
             0,
             "#0d0887"
            ],
            [
             0.1111111111111111,
             "#46039f"
            ],
            [
             0.2222222222222222,
             "#7201a8"
            ],
            [
             0.3333333333333333,
             "#9c179e"
            ],
            [
             0.4444444444444444,
             "#bd3786"
            ],
            [
             0.5555555555555556,
             "#d8576b"
            ],
            [
             0.6666666666666666,
             "#ed7953"
            ],
            [
             0.7777777777777778,
             "#fb9f3a"
            ],
            [
             0.8888888888888888,
             "#fdca26"
            ],
            [
             1,
             "#f0f921"
            ]
           ]
          },
          "colorway": [
           "#636efa",
           "#EF553B",
           "#00cc96",
           "#ab63fa",
           "#FFA15A",
           "#19d3f3",
           "#FF6692",
           "#B6E880",
           "#FF97FF",
           "#FECB52"
          ],
          "font": {
           "color": "#2a3f5f"
          },
          "geo": {
           "bgcolor": "white",
           "lakecolor": "white",
           "landcolor": "#E5ECF6",
           "showlakes": true,
           "showland": true,
           "subunitcolor": "white"
          },
          "hoverlabel": {
           "align": "left"
          },
          "hovermode": "closest",
          "mapbox": {
           "style": "light"
          },
          "paper_bgcolor": "white",
          "plot_bgcolor": "#E5ECF6",
          "polar": {
           "angularaxis": {
            "gridcolor": "white",
            "linecolor": "white",
            "ticks": ""
           },
           "bgcolor": "#E5ECF6",
           "radialaxis": {
            "gridcolor": "white",
            "linecolor": "white",
            "ticks": ""
           }
          },
          "scene": {
           "xaxis": {
            "backgroundcolor": "#E5ECF6",
            "gridcolor": "white",
            "gridwidth": 2,
            "linecolor": "white",
            "showbackground": true,
            "ticks": "",
            "zerolinecolor": "white"
           },
           "yaxis": {
            "backgroundcolor": "#E5ECF6",
            "gridcolor": "white",
            "gridwidth": 2,
            "linecolor": "white",
            "showbackground": true,
            "ticks": "",
            "zerolinecolor": "white"
           },
           "zaxis": {
            "backgroundcolor": "#E5ECF6",
            "gridcolor": "white",
            "gridwidth": 2,
            "linecolor": "white",
            "showbackground": true,
            "ticks": "",
            "zerolinecolor": "white"
           }
          },
          "shapedefaults": {
           "line": {
            "color": "#2a3f5f"
           }
          },
          "ternary": {
           "aaxis": {
            "gridcolor": "white",
            "linecolor": "white",
            "ticks": ""
           },
           "baxis": {
            "gridcolor": "white",
            "linecolor": "white",
            "ticks": ""
           },
           "bgcolor": "#E5ECF6",
           "caxis": {
            "gridcolor": "white",
            "linecolor": "white",
            "ticks": ""
           }
          },
          "title": {
           "x": 0.05
          },
          "xaxis": {
           "automargin": true,
           "gridcolor": "white",
           "linecolor": "white",
           "ticks": "",
           "title": {
            "standoff": 15
           },
           "zerolinecolor": "white",
           "zerolinewidth": 2
          },
          "yaxis": {
           "automargin": true,
           "gridcolor": "white",
           "linecolor": "white",
           "ticks": "",
           "title": {
            "standoff": 15
           },
           "zerolinecolor": "white",
           "zerolinewidth": 2
          }
         }
        },
        "xaxis": {
         "autorange": true,
         "categoryorder": "category ascending",
         "range": [
          -0.5,
          10.5
         ],
         "type": "category"
        },
        "yaxis": {
         "autorange": true,
         "range": [
          0,
          600162359.5044829
         ],
         "type": "linear"
        }
       }
      },
      "image/png": "[encoded data removed]",
      "text/html": [
       "<div>\n",
       "        \n",
       "        \n",
       "            <div id=\"06dd26a1-0609-4aba-a32b-ba93dbce8988\" class=\"plotly-graph-div\" style=\"height:525px; width:100%;\"></div>\n",
       "            <script type=\"text/javascript\">\n",
       "                require([\"plotly\"], function(Plotly) {\n",
       "                    window.PLOTLYENV=window.PLOTLYENV || {};\n",
       "                    \n",
       "                if (document.getElementById(\"06dd26a1-0609-4aba-a32b-ba93dbce8988\")) {\n",
       "                    Plotly.newPlot(\n",
       "                        '06dd26a1-0609-4aba-a32b-ba93dbce8988',\n",
       "                        [{\"name\": \"ABBV\", \"showlegend\": false, \"type\": \"bar\", \"x\": [\"2021-02-16\"], \"y\": [12839727.223205566]}, {\"name\": \"ACIC\", \"showlegend\": false, \"type\": \"bar\", \"x\": [\"2021-02-16\"], \"y\": [5540175.337362289]}, {\"name\": \"AMZN\", \"showlegend\": false, \"type\": \"bar\", \"x\": [\"2021-02-16\"], \"y\": [6101343.841552734]}, {\"name\": \"API\", \"showlegend\": false, \"type\": \"bar\", \"x\": [\"2021-02-01\", \"2021-02-05\", \"2021-02-08\", \"2021-02-09\", \"2021-02-10\", \"2021-02-16\"], \"y\": [3899528.0990600586, 10532552.294921875, 16273279.0, 9872559.41921997, 1763900.0, 2856741.5]}, {\"name\": \"AVAV\", \"showlegend\": false, \"type\": \"bar\", \"x\": [\"2021-02-01\", \"2021-02-02\", \"2021-02-03\", \"2021-02-04\", \"2021-02-05\", \"2021-02-08\", \"2021-02-16\"], \"y\": [736085.2856140137, 753254.5729904175, 1558305.0, 1547089.380744934, 1020054.0, 748515.5546264648, 845215.3074645996]}, {\"name\": \"BABA\", \"showlegend\": false, \"type\": \"bar\", \"x\": [\"2021-02-08\"], \"y\": [36127109.71786499]}, {\"name\": \"BEAM\", \"showlegend\": false, \"type\": \"bar\", \"x\": [\"2021-02-01\", \"2021-02-02\", \"2021-02-16\"], \"y\": [5804916.726699829, 1821000.0, 5490074.722145081]}, {\"name\": \"BEKE\", \"showlegend\": false, \"type\": \"bar\", \"x\": [\"2021-02-01\", \"2021-02-02\"], \"y\": [6822568.050765991, 7314057.191848755]}, {\"name\": \"BFLY\", \"showlegend\": false, \"type\": \"bar\", \"x\": [\"2021-02-16\"], \"y\": [679718.3790893555]}, {\"name\": \"BILL\", \"showlegend\": false, \"type\": \"bar\", \"x\": [\"2021-02-04\"], \"y\": [13399826.053268433]}, {\"name\": \"BYDDY\", \"showlegend\": false, \"type\": \"bar\", \"x\": [\"2021-02-01\", \"2021-02-02\", \"2021-02-03\", \"2021-02-04\", \"2021-02-16\"], \"y\": [2026902.9046325684, 2531559.669189453, 2199189.952468872, 1197490.9281921387, 858533.5]}, {\"name\": \"CDNA\", \"showlegend\": false, \"type\": \"bar\", \"x\": [\"2021-02-08\", \"2021-02-09\", \"2021-02-10\", \"2021-02-16\"], \"y\": [3264129.6675872803, 11371990.773971558, 6886210.918121338, 836807.2196960449]}, {\"name\": \"CDXS\", \"showlegend\": false, \"type\": \"bar\", \"x\": [\"2021-02-01\"], \"y\": [1468679.5]}, {\"name\": \"CMLF\", \"showlegend\": false, \"type\": \"bar\", \"x\": [\"2021-02-11\"], \"y\": [32423567.54374695]}, {\"name\": \"DKNG\", \"showlegend\": false, \"type\": \"bar\", \"x\": [\"2021-02-01\", \"2021-02-08\", \"2021-02-09\"], \"y\": [33831162.56790161, 32515328.61328125, 27657546.783447266]}, {\"name\": \"EXPC\", \"showlegend\": false, \"type\": \"bar\", \"x\": [\"2021-02-08\", \"2021-02-09\", \"2021-02-10\", \"2021-02-11\"], \"y\": [1314438.3163862228, 666333.5751180649, 626066.028968811, 3319103.985595703]}, {\"name\": \"FATE\", \"showlegend\": false, \"type\": \"bar\", \"x\": [\"2021-02-01\", \"2021-02-02\", \"2021-02-03\", \"2021-02-04\", \"2021-02-10\", \"2021-02-11\", \"2021-02-12\", \"2021-02-16\"], \"y\": [14170020.248542786, 564288.0, 9727452.50074768, 5648205.686950684, 1271916.5780639648, 3734467.638320923, 3452638.1256103516, 2746573.5]}, {\"name\": \"FLIR\", \"showlegend\": false, \"type\": \"bar\", \"x\": [\"2021-02-01\", \"2021-02-02\", \"2021-02-03\", \"2021-02-04\"], \"y\": [3709534.2246398926, 3486060.0, 2739912.8752441406, 2422248.7921943665]}, {\"name\": \"FSLY\", \"showlegend\": false, \"type\": \"bar\", \"x\": [\"2021-02-01\", \"2021-02-02\"], \"y\": [18307985.382369995, 2507544.076538086]}, {\"name\": \"HUYA\", \"showlegend\": false, \"type\": \"bar\", \"x\": [\"2021-02-05\"], \"y\": [5735583.834075928]}, {\"name\": \"IRDM\", \"showlegend\": false, \"type\": \"bar\", \"x\": [\"2021-02-01\", \"2021-02-02\", \"2021-02-11\", \"2021-02-12\", \"2021-02-16\"], \"y\": [1996500.5, 4356188.079471588, 21080452.5, 15362523.610031128, 2223751.3676605225]}, {\"name\": \"ISRG\", \"showlegend\": false, \"type\": \"bar\", \"x\": [\"2021-02-12\", \"2021-02-16\"], \"y\": [16682154.923828125, 1452330.0]}, {\"name\": \"KMTUY\", \"showlegend\": false, \"type\": \"bar\", \"x\": [\"2021-02-08\", \"2021-02-09\", \"2021-02-10\", \"2021-02-11\", \"2021-02-12\", \"2021-02-16\"], \"y\": [227666.8729248047, 3463880.4605674744, 2141194.8854599, 537300.0068664551, 600000.0, 1539216.0461425781]}, {\"name\": \"KTOS\", \"showlegend\": false, \"type\": \"bar\", \"x\": [\"2021-02-05\", \"2021-02-08\"], \"y\": [3999173.5, 1346720.0467205048]}, {\"name\": \"LGVW\", \"showlegend\": false, \"type\": \"bar\", \"x\": [\"2021-02-05\", \"2021-02-12\"], \"y\": [1346360.0, 237676.16306304932]}, {\"name\": \"LMT\", \"showlegend\": false, \"type\": \"bar\", \"x\": [\"2021-02-01\", \"2021-02-02\", \"2021-02-12\", \"2021-02-16\"], \"y\": [15488004.47277832, 5402594.879150391, 13351910.159179688, 3596050.0]}, {\"name\": \"LSPD\", \"showlegend\": false, \"type\": \"bar\", \"x\": [\"2021-02-04\", \"2021-02-05\", \"2021-02-09\", \"2021-02-10\", \"2021-02-11\"], \"y\": [29037579.432678223, 8272767.03414917, 3027023.973083496, 1194868.0557250977, 5230641.419532776]}, {\"name\": \"MELI\", \"showlegend\": false, \"type\": \"bar\", \"x\": [\"2021-02-08\"], \"y\": [10345828.0]}, {\"name\": \"MTLS\", \"showlegend\": false, \"type\": \"bar\", \"x\": [\"2021-02-01\", \"2021-02-02\", \"2021-02-03\", \"2021-02-04\", \"2021-02-08\", \"2021-02-09\", \"2021-02-10\", \"2021-02-11\", \"2021-02-12\", \"2021-02-16\"], \"y\": [4140359.9243164062, 4033970.1861572266, 3461915.598678589, 1481130.0, 5204900.0, 3305715.864959717, 1391084.7499389648, 3102399.90234375, 1160632.0891571045, 1652394.2980957031]}, {\"name\": \"NNDM\", \"showlegend\": false, \"type\": \"bar\", \"x\": [\"2021-02-01\", \"2021-02-03\", \"2021-02-08\", \"2021-02-09\"], \"y\": [4247829.885482788, 4721051.86958313, 6101051.18452549, 7759887.777709961]}, {\"name\": \"NTDOY\", \"showlegend\": false, \"type\": \"bar\", \"x\": [\"2021-02-10\", \"2021-02-11\", \"2021-02-12\", \"2021-02-16\"], \"y\": [777700.0, 3578829.3483276367, 3929647.373954773, 5576585.250854492]}, {\"name\": \"NVDA\", \"showlegend\": false, \"type\": \"bar\", \"x\": [\"2021-02-01\", \"2021-02-05\"], \"y\": [48377433.47241211, 10216341.0]}, {\"name\": \"NVS\", \"showlegend\": false, \"type\": \"bar\", \"x\": [\"2021-02-02\", \"2021-02-03\", \"2021-02-04\", \"2021-02-05\", \"2021-02-08\", \"2021-02-09\", \"2021-02-10\", \"2021-02-11\", \"2021-02-12\"], \"y\": [2777881.3874816895, 26796689.992378235, 22319128.475250244, 25554883.016586304, 5784143.28414917, 38836343.0, 16429912.0, 17961874.07775879, 14209866.837226868]}, {\"name\": \"ONVO\", \"showlegend\": false, \"type\": \"bar\", \"x\": [\"2021-02-03\", \"2021-02-04\", \"2021-02-05\", \"2021-02-08\", \"2021-02-09\", \"2021-02-10\", \"2021-02-11\", \"2021-02-12\", \"2021-02-16\"], \"y\": [345775.68771362305, 114508.60825157166, 266645.28840637207, 2526553.2832603455, 828211.171875, 570055.8854866028, 720955.46708107, 92488.00201416016, 68417.43897247314]}, {\"name\": \"PACB\", \"showlegend\": false, \"type\": \"bar\", \"x\": [\"2021-02-01\", \"2021-02-11\", \"2021-02-16\"], \"y\": [6995180.743637085, 34023171.0, 871374.4004058838]}, {\"name\": \"PCAR\", \"showlegend\": false, \"type\": \"bar\", \"x\": [\"2021-02-01\", \"2021-02-02\", \"2021-02-03\", \"2021-02-04\", \"2021-02-08\", \"2021-02-09\", \"2021-02-10\"], \"y\": [24146063.002700806, 32647275.0, 29586235.08595276, 33212165.7913208, 5084439.698135376, 6742056.012374878, 7162133.825683594]}, {\"name\": \"PDD\", \"showlegend\": false, \"type\": \"bar\", \"x\": [\"2021-02-08\"], \"y\": [17146075.987243652]}, {\"name\": \"PD\", \"showlegend\": false, \"type\": \"bar\", \"x\": [\"2021-02-16\"], \"y\": [1784740.5763397217]}, {\"name\": \"PINS\", \"showlegend\": false, \"type\": \"bar\", \"x\": [\"2021-02-05\", \"2021-02-08\", \"2021-02-09\"], \"y\": [126901135.70729065, 36899027.47828674, 27397536.947631836]}, {\"name\": \"PLTR\", \"showlegend\": false, \"type\": \"bar\", \"x\": [\"2021-02-16\"], \"y\": [46837204.71420288]}, {\"name\": \"PSTG\", \"showlegend\": false, \"type\": \"bar\", \"x\": [\"2021-02-03\", \"2021-02-04\", \"2021-02-05\", \"2021-02-08\", \"2021-02-16\"], \"y\": [6622456.99987793, 5020462.968875885, 6506892.073059082, 18881107.647478104, 7786992.497566223]}, {\"name\": \"PTON\", \"showlegend\": false, \"type\": \"bar\", \"x\": [\"2021-02-05\"], \"y\": [15823800.0]}, {\"name\": \"PYPL\", \"showlegend\": false, \"type\": \"bar\", \"x\": [\"2021-02-01\", \"2021-02-04\", \"2021-02-05\", \"2021-02-09\", \"2021-02-10\", \"2021-02-11\"], \"y\": [17861302.104125977, 17538973.75793457, 6646216.867553711, 5775828.1005859375, 1254440.0268554688, 4900700.2509765625]}, {\"name\": \"RAVN\", \"showlegend\": false, \"type\": \"bar\", \"x\": [\"2021-02-16\"], \"y\": [697716.7869033813]}, {\"name\": \"REGN\", \"showlegend\": false, \"type\": \"bar\", \"x\": [\"2021-02-01\", \"2021-02-05\", \"2021-02-08\", \"2021-02-09\", \"2021-02-10\"], \"y\": [2630766.637573242, 32218283.523864746, 36326709.05761719, 20416817.01980591, 35049812.66973877]}, {\"name\": \"RHHBY\", \"showlegend\": false, \"type\": \"bar\", \"x\": [\"2021-02-08\", \"2021-02-09\", \"2021-02-10\", \"2021-02-11\", \"2021-02-12\"], \"y\": [3171186.0900878906, 8693352.214050293, 21270173.928588867, 10712013.891059875, 5810781.642242432]}, {\"name\": \"ROKU\", \"showlegend\": false, \"type\": \"bar\", \"x\": [\"2021-02-01\", \"2021-02-03\", \"2021-02-04\", \"2021-02-05\"], \"y\": [28955549.536499023, 22625029.483520508, 31390867.254638672, 25913273.31121826]}, {\"name\": \"RPTX\", \"showlegend\": false, \"type\": \"bar\", \"x\": [\"2021-02-01\", \"2021-02-02\"], \"y\": [387257.7784309387, 317557.79359054565]}, {\"name\": \"SE\", \"showlegend\": false, \"type\": \"bar\", \"x\": [\"2021-02-02\", \"2021-02-08\", \"2021-02-09\", \"2021-02-16\"], \"y\": [6950910.906051636, 36126317.530944824, 14510167.232818604, 9001987.948760986]}, {\"name\": \"SGFY\", \"showlegend\": false, \"type\": \"bar\", \"x\": [\"2021-02-16\"], \"y\": [13261284.525066376]}, {\"name\": \"SHOP\", \"showlegend\": false, \"type\": \"bar\", \"x\": [\"2021-02-08\", \"2021-02-09\", \"2021-02-10\", \"2021-02-11\"], \"y\": [57674942.592041016, 40556241.87011719, 15112880.471923828, 13826653.145751953]}, {\"name\": \"SNAP\", \"showlegend\": false, \"type\": \"bar\", \"x\": [\"2021-02-05\"], \"y\": [123357916.81480408]}, {\"name\": \"SPCE\", \"showlegend\": false, \"type\": \"bar\", \"x\": [\"2021-02-01\", \"2021-02-08\", \"2021-02-09\", \"2021-02-12\"], \"y\": [5155680.799865723, 14199064.42565918, 1150295.1681785583, 13636259.609985352]}, {\"name\": \"SPLK\", \"showlegend\": false, \"type\": \"bar\", \"x\": [\"2021-02-01\", \"2021-02-02\", \"2021-02-03\", \"2021-02-04\", \"2021-02-05\", \"2021-02-08\", \"2021-02-09\", \"2021-02-10\", \"2021-02-16\"], \"y\": [5594760.174438477, 11456752.0, 30813000.833129883, 13021307.904968262, 17118789.541503906, 12613996.856140137, 3107217.9866638184, 19852758.139526367, 20819100.0]}, {\"name\": \"SPOT\", \"showlegend\": false, \"type\": \"bar\", \"x\": [\"2021-02-03\"], \"y\": [161948552.0]}, {\"name\": \"SQ\", \"showlegend\": false, \"type\": \"bar\", \"x\": [\"2021-02-01\"], \"y\": [19153568.903320312]}, {\"name\": \"SSYS\", \"showlegend\": false, \"type\": \"bar\", \"x\": [\"2021-02-09\", \"2021-02-10\", \"2021-02-11\", \"2021-02-16\"], \"y\": [5612492.372093201, 821885.9882354736, 4626221.715156555, 1442185.2499809265]}, {\"name\": \"TCEHY\", \"showlegend\": false, \"type\": \"bar\", \"x\": [\"2021-02-08\", \"2021-02-09\"], \"y\": [28886723.35333252, 22564449.179748535]}, {\"name\": \"TDY\", \"showlegend\": false, \"type\": \"bar\", \"x\": [\"2021-02-12\", \"2021-02-16\"], \"y\": [15599970.949401855, 12886127.960205078]}, {\"name\": \"TER\", \"showlegend\": false, \"type\": \"bar\", \"x\": [\"2021-02-01\", \"2021-02-02\", \"2021-02-03\", \"2021-02-04\", \"2021-02-05\"], \"y\": [34410721.5, 73588176.0, 36305489.56893921, 11022957.447532654, 6269512.875419617]}, {\"name\": \"TMO\", \"showlegend\": false, \"type\": \"bar\", \"x\": [\"2021-02-05\"], \"y\": [17554010.84640503]}, {\"name\": \"TSM\", \"showlegend\": false, \"type\": \"bar\", \"x\": [\"2021-02-01\", \"2021-02-08\", \"2021-02-09\", \"2021-02-16\"], \"y\": [43518386.13991547, 14951336.045471191, 10186097.135177612, 10148763.913742065]}, {\"name\": \"TWST\", \"showlegend\": false, \"type\": \"bar\", \"x\": [\"2021-02-02\", \"2021-02-03\", \"2021-02-16\"], \"y\": [6743444.155487061, 19166401.25, 285696.23205566406]}, {\"name\": \"TWTR\", \"showlegend\": false, \"type\": \"bar\", \"x\": [\"2021-02-08\", \"2021-02-09\"], \"y\": [25210625.6672287, 28335844.58506775]}, {\"name\": \"U\", \"showlegend\": false, \"type\": \"bar\", \"x\": [\"2021-02-05\", \"2021-02-08\"], \"y\": [100940400.0, 76896360.91918945]}, {\"name\": \"VCYT\", \"showlegend\": false, \"type\": \"bar\", \"x\": [\"2021-02-16\"], \"y\": [1670362.6058883667]}, {\"name\": \"VEEV\", \"showlegend\": false, \"type\": \"bar\", \"x\": [\"2021-02-16\"], \"y\": [5705912.441375732]}, {\"name\": \"VRTX\", \"showlegend\": false, \"type\": \"bar\", \"x\": [\"2021-02-02\", \"2021-02-03\", \"2021-02-05\"], \"y\": [18447860.249328613, 12471781.895446777, 23959650.0]}, {\"name\": \"Z\", \"showlegend\": false, \"type\": \"bar\", \"x\": [\"2021-02-01\", \"2021-02-16\"], \"y\": [11162743.712844849, 13639985.732788086]}],\n",
       "                        {\"barmode\": \"stack\", \"template\": {\"data\": {\"bar\": [{\"error_x\": {\"color\": \"#2a3f5f\"}, \"error_y\": {\"color\": \"#2a3f5f\"}, \"marker\": {\"line\": {\"color\": \"#E5ECF6\", \"width\": 0.5}}, \"type\": \"bar\"}], \"barpolar\": [{\"marker\": {\"line\": {\"color\": \"#E5ECF6\", \"width\": 0.5}}, \"type\": \"barpolar\"}], \"carpet\": [{\"aaxis\": {\"endlinecolor\": \"#2a3f5f\", \"gridcolor\": \"white\", \"linecolor\": \"white\", \"minorgridcolor\": \"white\", \"startlinecolor\": \"#2a3f5f\"}, \"baxis\": {\"endlinecolor\": \"#2a3f5f\", \"gridcolor\": \"white\", \"linecolor\": \"white\", \"minorgridcolor\": \"white\", \"startlinecolor\": \"#2a3f5f\"}, \"type\": \"carpet\"}], \"choropleth\": [{\"colorbar\": {\"outlinewidth\": 0, \"ticks\": \"\"}, \"type\": \"choropleth\"}], \"contour\": [{\"colorbar\": {\"outlinewidth\": 0, \"ticks\": \"\"}, \"colorscale\": [[0.0, \"#0d0887\"], [0.1111111111111111, \"#46039f\"], [0.2222222222222222, \"#7201a8\"], [0.3333333333333333, \"#9c179e\"], [0.4444444444444444, \"#bd3786\"], [0.5555555555555556, \"#d8576b\"], [0.6666666666666666, \"#ed7953\"], [0.7777777777777778, \"#fb9f3a\"], [0.8888888888888888, \"#fdca26\"], [1.0, \"#f0f921\"]], \"type\": \"contour\"}], \"contourcarpet\": [{\"colorbar\": {\"outlinewidth\": 0, \"ticks\": \"\"}, \"type\": \"contourcarpet\"}], \"heatmap\": [{\"colorbar\": {\"outlinewidth\": 0, \"ticks\": \"\"}, \"colorscale\": [[0.0, \"#0d0887\"], [0.1111111111111111, \"#46039f\"], [0.2222222222222222, \"#7201a8\"], [0.3333333333333333, \"#9c179e\"], [0.4444444444444444, \"#bd3786\"], [0.5555555555555556, \"#d8576b\"], [0.6666666666666666, \"#ed7953\"], [0.7777777777777778, \"#fb9f3a\"], [0.8888888888888888, \"#fdca26\"], [1.0, \"#f0f921\"]], \"type\": \"heatmap\"}], \"heatmapgl\": [{\"colorbar\": {\"outlinewidth\": 0, \"ticks\": \"\"}, \"colorscale\": [[0.0, \"#0d0887\"], [0.1111111111111111, \"#46039f\"], [0.2222222222222222, \"#7201a8\"], [0.3333333333333333, \"#9c179e\"], [0.4444444444444444, \"#bd3786\"], [0.5555555555555556, \"#d8576b\"], [0.6666666666666666, \"#ed7953\"], [0.7777777777777778, \"#fb9f3a\"], [0.8888888888888888, \"#fdca26\"], [1.0, \"#f0f921\"]], \"type\": \"heatmapgl\"}], \"histogram\": [{\"marker\": {\"colorbar\": {\"outlinewidth\": 0, \"ticks\": \"\"}}, \"type\": \"histogram\"}], \"histogram2d\": [{\"colorbar\": {\"outlinewidth\": 0, \"ticks\": \"\"}, \"colorscale\": [[0.0, \"#0d0887\"], [0.1111111111111111, \"#46039f\"], [0.2222222222222222, \"#7201a8\"], [0.3333333333333333, \"#9c179e\"], [0.4444444444444444, \"#bd3786\"], [0.5555555555555556, \"#d8576b\"], [0.6666666666666666, \"#ed7953\"], [0.7777777777777778, \"#fb9f3a\"], [0.8888888888888888, \"#fdca26\"], [1.0, \"#f0f921\"]], \"type\": \"histogram2d\"}], \"histogram2dcontour\": [{\"colorbar\": {\"outlinewidth\": 0, \"ticks\": \"\"}, \"colorscale\": [[0.0, \"#0d0887\"], [0.1111111111111111, \"#46039f\"], [0.2222222222222222, \"#7201a8\"], [0.3333333333333333, \"#9c179e\"], [0.4444444444444444, \"#bd3786\"], [0.5555555555555556, \"#d8576b\"], [0.6666666666666666, \"#ed7953\"], [0.7777777777777778, \"#fb9f3a\"], [0.8888888888888888, \"#fdca26\"], [1.0, \"#f0f921\"]], \"type\": \"histogram2dcontour\"}], \"mesh3d\": [{\"colorbar\": {\"outlinewidth\": 0, \"ticks\": \"\"}, \"type\": \"mesh3d\"}], \"parcoords\": [{\"line\": {\"colorbar\": {\"outlinewidth\": 0, \"ticks\": \"\"}}, \"type\": \"parcoords\"}], \"pie\": [{\"automargin\": true, \"type\": \"pie\"}], \"scatter\": [{\"marker\": {\"colorbar\": {\"outlinewidth\": 0, \"ticks\": \"\"}}, \"type\": \"scatter\"}], \"scatter3d\": [{\"line\": {\"colorbar\": {\"outlinewidth\": 0, \"ticks\": \"\"}}, \"marker\": {\"colorbar\": {\"outlinewidth\": 0, \"ticks\": \"\"}}, \"type\": \"scatter3d\"}], \"scattercarpet\": [{\"marker\": {\"colorbar\": {\"outlinewidth\": 0, \"ticks\": \"\"}}, \"type\": \"scattercarpet\"}], \"scattergeo\": [{\"marker\": {\"colorbar\": {\"outlinewidth\": 0, \"ticks\": \"\"}}, \"type\": \"scattergeo\"}], \"scattergl\": [{\"marker\": {\"colorbar\": {\"outlinewidth\": 0, \"ticks\": \"\"}}, \"type\": \"scattergl\"}], \"scattermapbox\": [{\"marker\": {\"colorbar\": {\"outlinewidth\": 0, \"ticks\": \"\"}}, \"type\": \"scattermapbox\"}], \"scatterpolar\": [{\"marker\": {\"colorbar\": {\"outlinewidth\": 0, \"ticks\": \"\"}}, \"type\": \"scatterpolar\"}], \"scatterpolargl\": [{\"marker\": {\"colorbar\": {\"outlinewidth\": 0, \"ticks\": \"\"}}, \"type\": \"scatterpolargl\"}], \"scatterternary\": [{\"marker\": {\"colorbar\": {\"outlinewidth\": 0, \"ticks\": \"\"}}, \"type\": \"scatterternary\"}], \"surface\": [{\"colorbar\": {\"outlinewidth\": 0, \"ticks\": \"\"}, \"colorscale\": [[0.0, \"#0d0887\"], [0.1111111111111111, \"#46039f\"], [0.2222222222222222, \"#7201a8\"], [0.3333333333333333, \"#9c179e\"], [0.4444444444444444, \"#bd3786\"], [0.5555555555555556, \"#d8576b\"], [0.6666666666666666, \"#ed7953\"], [0.7777777777777778, \"#fb9f3a\"], [0.8888888888888888, \"#fdca26\"], [1.0, \"#f0f921\"]], \"type\": \"surface\"}], \"table\": [{\"cells\": {\"fill\": {\"color\": \"#EBF0F8\"}, \"line\": {\"color\": \"white\"}}, \"header\": {\"fill\": {\"color\": \"#C8D4E3\"}, \"line\": {\"color\": \"white\"}}, \"type\": \"table\"}]}, \"layout\": {\"annotationdefaults\": {\"arrowcolor\": \"#2a3f5f\", \"arrowhead\": 0, \"arrowwidth\": 1}, \"coloraxis\": {\"colorbar\": {\"outlinewidth\": 0, \"ticks\": \"\"}}, \"colorscale\": {\"diverging\": [[0, \"#8e0152\"], [0.1, \"#c51b7d\"], [0.2, \"#de77ae\"], [0.3, \"#f1b6da\"], [0.4, \"#fde0ef\"], [0.5, \"#f7f7f7\"], [0.6, \"#e6f5d0\"], [0.7, \"#b8e186\"], [0.8, \"#7fbc41\"], [0.9, \"#4d9221\"], [1, \"#276419\"]], \"sequential\": [[0.0, \"#0d0887\"], [0.1111111111111111, \"#46039f\"], [0.2222222222222222, \"#7201a8\"], [0.3333333333333333, \"#9c179e\"], [0.4444444444444444, \"#bd3786\"], [0.5555555555555556, \"#d8576b\"], [0.6666666666666666, \"#ed7953\"], [0.7777777777777778, \"#fb9f3a\"], [0.8888888888888888, \"#fdca26\"], [1.0, \"#f0f921\"]], \"sequentialminus\": [[0.0, \"#0d0887\"], [0.1111111111111111, \"#46039f\"], [0.2222222222222222, \"#7201a8\"], [0.3333333333333333, \"#9c179e\"], [0.4444444444444444, \"#bd3786\"], [0.5555555555555556, \"#d8576b\"], [0.6666666666666666, \"#ed7953\"], [0.7777777777777778, \"#fb9f3a\"], [0.8888888888888888, \"#fdca26\"], [1.0, \"#f0f921\"]]}, \"colorway\": [\"#636efa\", \"#EF553B\", \"#00cc96\", \"#ab63fa\", \"#FFA15A\", \"#19d3f3\", \"#FF6692\", \"#B6E880\", \"#FF97FF\", \"#FECB52\"], \"font\": {\"color\": \"#2a3f5f\"}, \"geo\": {\"bgcolor\": \"white\", \"lakecolor\": \"white\", \"landcolor\": \"#E5ECF6\", \"showlakes\": true, \"showland\": true, \"subunitcolor\": \"white\"}, \"hoverlabel\": {\"align\": \"left\"}, \"hovermode\": \"closest\", \"mapbox\": {\"style\": \"light\"}, \"paper_bgcolor\": \"white\", \"plot_bgcolor\": \"#E5ECF6\", \"polar\": {\"angularaxis\": {\"gridcolor\": \"white\", \"linecolor\": \"white\", \"ticks\": \"\"}, \"bgcolor\": \"#E5ECF6\", \"radialaxis\": {\"gridcolor\": \"white\", \"linecolor\": \"white\", \"ticks\": \"\"}}, \"scene\": {\"xaxis\": {\"backgroundcolor\": \"#E5ECF6\", \"gridcolor\": \"white\", \"gridwidth\": 2, \"linecolor\": \"white\", \"showbackground\": true, \"ticks\": \"\", \"zerolinecolor\": \"white\"}, \"yaxis\": {\"backgroundcolor\": \"#E5ECF6\", \"gridcolor\": \"white\", \"gridwidth\": 2, \"linecolor\": \"white\", \"showbackground\": true, \"ticks\": \"\", \"zerolinecolor\": \"white\"}, \"zaxis\": {\"backgroundcolor\": \"#E5ECF6\", \"gridcolor\": \"white\", \"gridwidth\": 2, \"linecolor\": \"white\", \"showbackground\": true, \"ticks\": \"\", \"zerolinecolor\": \"white\"}}, \"shapedefaults\": {\"line\": {\"color\": \"#2a3f5f\"}}, \"ternary\": {\"aaxis\": {\"gridcolor\": \"white\", \"linecolor\": \"white\", \"ticks\": \"\"}, \"baxis\": {\"gridcolor\": \"white\", \"linecolor\": \"white\", \"ticks\": \"\"}, \"bgcolor\": \"#E5ECF6\", \"caxis\": {\"gridcolor\": \"white\", \"linecolor\": \"white\", \"ticks\": \"\"}}, \"title\": {\"x\": 0.05}, \"xaxis\": {\"automargin\": true, \"gridcolor\": \"white\", \"linecolor\": \"white\", \"ticks\": \"\", \"title\": {\"standoff\": 15}, \"zerolinecolor\": \"white\", \"zerolinewidth\": 2}, \"yaxis\": {\"automargin\": true, \"gridcolor\": \"white\", \"linecolor\": \"white\", \"ticks\": \"\", \"title\": {\"standoff\": 15}, \"zerolinecolor\": \"white\", \"zerolinewidth\": 2}}}, \"xaxis\": {\"categoryorder\": \"category ascending\", \"type\": \"category\"}},\n",
       "                        {\"responsive\": true}\n",
       "                    ).then(function(){\n",
       "                            \n",
       "var gd = document.getElementById('06dd26a1-0609-4aba-a32b-ba93dbce8988');\n",
       "var x = new MutationObserver(function (mutations, observer) {{\n",
       "        var display = window.getComputedStyle(gd).display;\n",
       "        if (!display || display === 'none') {{\n",
       "            console.log([gd, 'removed!']);\n",
       "            Plotly.purge(gd);\n",
       "            observer.disconnect();\n",
       "        }}\n",
       "}});\n",
       "\n",
       "// Listen for the removal of the full notebook cells\n",
       "var notebookContainer = gd.closest('#notebook-container');\n",
       "if (notebookContainer) {{\n",
       "    x.observe(notebookContainer, {childList: true});\n",
       "}}\n",
       "\n",
       "// Listen for the clearing of the current output cell\n",
       "var outputEl = gd.closest('.output');\n",
       "if (outputEl) {{\n",
       "    x.observe(outputEl, {childList: true});\n",
       "}}\n",
       "\n",
       "                        })\n",
       "                };\n",
       "                });\n",
       "            </script>\n",
       "        </div>"
      ]
     },
     "metadata": {},
     "output_type": "display_data"
    }
   ],
   "source": [
    "# group bar chart\n",
    "def group_bc_traces(x, y, hue, groups, df, agg=np.sum, legend=False):\n",
    "    # creates a grouped barchart according to hue (color)\n",
    "    \n",
    "    groups = groups.copy()\n",
    "    groups.append(hue)\n",
    "    groups_df = df.groupby(groups).agg(agg).reset_index()\n",
    "    \n",
    "    traces = []\n",
    "    for v in df[hue].unique():\n",
    "        trace = go.Bar(name=v, showlegend=legend, x=groups_df[groups_df[hue]==v][x].astype(str), y=groups_df[groups_df[hue]==v][y])\n",
    "        traces.append(trace)\n",
    "        \n",
    "    return traces\n",
    "\n",
    "def plot_traces(traces):\n",
    "    # plots several traces\n",
    "    fig = go.Figure()\n",
    "    \n",
    "    for t in traces:\n",
    "        fig.add_trace(t)\n",
    "        \n",
    "    return fig\n",
    "\n",
    "traces = group_bc_traces(\"date\", \"abs_volume\", \"ticker\", [\"date\"], net)\n",
    "fig = plot_traces(traces)\n",
    "fig.update_layout(barmode='stack', xaxis={'categoryorder':'category ascending', 'type': 'category'})\n",
    "\n",
    "fig\n",
    "\n"
   ]
  },
  {
   "cell_type": "code",
   "execution_count": 74,
   "metadata": {},
   "outputs": [
    {
     "data": {
      "text/plain": [
       "69"
      ]
     },
     "execution_count": 74,
     "metadata": {},
     "output_type": "execute_result"
    }
   ],
   "source": [
    "len(traces)"
   ]
  },
  {
   "cell_type": "code",
   "execution_count": null,
   "metadata": {},
   "outputs": [],
   "source": []
  }
 ],
 "metadata": {
  "kernelspec": {
   "display_name": "Python 3",
   "language": "python",
   "name": "python3"
  },
  "language_info": {
   "codemirror_mode": {
    "name": "ipython",
    "version": 3
   },
   "file_extension": ".py",
   "mimetype": "text/x-python",
   "name": "python",
   "nbconvert_exporter": "python",
   "pygments_lexer": "ipython3",
   "version": "3.8.3"
  }
 },
 "nbformat": 4,
 "nbformat_minor": 4
}
